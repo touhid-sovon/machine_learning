{
  "nbformat": 4,
  "nbformat_minor": 0,
  "metadata": {
    "colab": {
      "provenance": []
    },
    "kernelspec": {
      "name": "python3",
      "display_name": "Python 3"
    },
    "language_info": {
      "name": "python"
    }
  },
  "cells": [
    {
      "cell_type": "markdown",
      "source": [
        "Numpy is more effective than list in 3 criteria for large data set:\n",
        "1. Less Memory\n",
        "2. Fast\n",
        "3. Covenient\n",
        "4. N-dimentional Array"
      ],
      "metadata": {
        "id": "Mz_wRKxDIx_J"
      }
    },
    {
      "cell_type": "code",
      "execution_count": null,
      "metadata": {
        "id": "7Ha5eTi2IWlj"
      },
      "outputs": [],
      "source": [
        "import numpy as np\n",
        "import sys\n",
        "import time"
      ]
    },
    {
      "cell_type": "code",
      "source": [
        "# list size\n",
        "list1 = range(1000)\n",
        "list_size = (sys.getsizeof(5)*len(list1))"
      ],
      "metadata": {
        "id": "xk5uF2CdJGwD"
      },
      "execution_count": null,
      "outputs": []
    },
    {
      "cell_type": "code",
      "source": [
        "# np array size\n",
        "np_array = np.arange(1000)\n",
        "np_array_size = (np_array.size*np_array.itemsize)"
      ],
      "metadata": {
        "id": "WCmMRiPSJO2x"
      },
      "execution_count": null,
      "outputs": []
    },
    {
      "cell_type": "code",
      "source": [
        "# size difference\n",
        "print(list_size)\n",
        "print(np_array_size)"
      ],
      "metadata": {
        "colab": {
          "base_uri": "https://localhost:8080/"
        },
        "id": "3Wg_uf5AJRjt",
        "outputId": "03b72bc3-0b88-4aa3-ba5b-06502d2d8fdd"
      },
      "execution_count": null,
      "outputs": [
        {
          "output_type": "stream",
          "name": "stdout",
          "text": [
            "28000\n",
            "8000\n"
          ]
        }
      ]
    },
    {
      "cell_type": "markdown",
      "source": [
        "**Per list element tales 28 bytes in Python whereas per item in numoy array takes only one byte or one bit and which is also a contagious memory**"
      ],
      "metadata": {
        "id": "GcqyNDpALhjn"
      }
    },
    {
      "cell_type": "code",
      "source": [
        "size = 1_000_000\n",
        "l1 = range(size)\n",
        "l2 = range(size)"
      ],
      "metadata": {
        "id": "Kv6UQAOYLMkr"
      },
      "execution_count": null,
      "outputs": []
    },
    {
      "cell_type": "code",
      "source": [
        "# np_array\n",
        "npa1 = np.arange(size)\n",
        "npa2 = np.arange(size)"
      ],
      "metadata": {
        "id": "fGjvWgMdzHt_"
      },
      "execution_count": null,
      "outputs": []
    },
    {
      "cell_type": "code",
      "source": [
        "# python list millon sum time\n",
        "start_list = time.time()\n",
        "res = [(x+y) for x,y in zip(l1,l2)]\n",
        "print(f'python list took {(time.time() - start_list)*1000}')"
      ],
      "metadata": {
        "colab": {
          "base_uri": "https://localhost:8080/"
        },
        "id": "CHfPYc4AzTxy",
        "outputId": "842a51ae-113d-4e99-8f5d-ec9b6a47b7cc"
      },
      "execution_count": null,
      "outputs": [
        {
          "output_type": "stream",
          "name": "stdout",
          "text": [
            "python list took 210.25800704956055\n"
          ]
        }
      ]
    },
    {
      "cell_type": "code",
      "source": [
        "# np array million sum time\n",
        "start_array = time.time()\n",
        "res_arr = npa1 + npa2 # we can directly apply mathematical operations like addition,substraction, multiplications on np array with using list comprehension\n",
        "print(f'np arrat took: {(time.time()- start_array)*1000}')"
      ],
      "metadata": {
        "colab": {
          "base_uri": "https://localhost:8080/"
        },
        "id": "oJcwdmf7znlP",
        "outputId": "c16e407b-b3af-48bd-fad6-ee8f0c630c82"
      },
      "execution_count": null,
      "outputs": [
        {
          "output_type": "stream",
          "name": "stdout",
          "text": [
            "np arrat took: 9.141683578491211\n"
          ]
        }
      ]
    },
    {
      "cell_type": "markdown",
      "source": [
        "**Numpy Array Basic Operations**"
      ],
      "metadata": {
        "id": "utYfzW4F59zq"
      }
    },
    {
      "cell_type": "code",
      "source": [
        "arr1 = np.array([[1,2],[3,4],[5,6]])\n",
        "# dimetion of array\n",
        "print(arr1.ndim)\n",
        "# size of the array meaning total items in the whole array\n",
        "print(arr1.size)\n",
        "# size of the each item of the array\n",
        "print(arr1.itemsize)\n",
        "# shape of the array/matrix or row/column\n",
        "print(arr1.shape)"
      ],
      "metadata": {
        "colab": {
          "base_uri": "https://localhost:8080/"
        },
        "id": "ggNuUD632TrJ",
        "outputId": "61a8c2a2-2da0-4d5e-c71c-3dbda18b6459"
      },
      "execution_count": null,
      "outputs": [
        {
          "output_type": "stream",
          "name": "stdout",
          "text": [
            "2\n",
            "6\n",
            "8\n",
            "(3, 2)\n"
          ]
        }
      ]
    },
    {
      "cell_type": "code",
      "source": [
        "arr1_float = arr1.astype(float)\n",
        "print(arr1_float)\n",
        "print(arr1_float.itemsize)"
      ],
      "metadata": {
        "colab": {
          "base_uri": "https://localhost:8080/"
        },
        "id": "1pzm0zR54zhv",
        "outputId": "37902a7a-2038-4692-ec99-b292c13dcdf8"
      },
      "execution_count": null,
      "outputs": [
        {
          "output_type": "stream",
          "name": "stdout",
          "text": [
            "[[1. 2.]\n",
            " [3. 4.]\n",
            " [5. 6.]]\n",
            "8\n"
          ]
        }
      ]
    },
    {
      "cell_type": "code",
      "source": [
        "print(np.zeros((4,4)))"
      ],
      "metadata": {
        "colab": {
          "base_uri": "https://localhost:8080/"
        },
        "id": "MOGbgreNGSPD",
        "outputId": "c0aa79f2-0cb3-45a1-a7b0-6d03ffa6a1fa"
      },
      "execution_count": null,
      "outputs": [
        {
          "output_type": "stream",
          "name": "stdout",
          "text": [
            "[[0. 0. 0. 0.]\n",
            " [0. 0. 0. 0.]\n",
            " [0. 0. 0. 0.]\n",
            " [0. 0. 0. 0.]]\n"
          ]
        }
      ]
    },
    {
      "cell_type": "code",
      "source": [
        "print(np.ones((2,3)))"
      ],
      "metadata": {
        "colab": {
          "base_uri": "https://localhost:8080/"
        },
        "id": "HAUEri79IANF",
        "outputId": "ee0bbb36-11e5-4c68-e8a6-a83bea878c4a"
      },
      "execution_count": null,
      "outputs": [
        {
          "output_type": "stream",
          "name": "stdout",
          "text": [
            "[[1. 1. 1.]\n",
            " [1. 1. 1.]]\n"
          ]
        }
      ]
    },
    {
      "cell_type": "code",
      "source": [
        "print(np.full((2,3),7)) # np.full((row,column),value)"
      ],
      "metadata": {
        "colab": {
          "base_uri": "https://localhost:8080/"
        },
        "id": "GRzEoZdCIIcS",
        "outputId": "06e5b4ce-a95d-4adb-d690-39176111a79d"
      },
      "execution_count": null,
      "outputs": [
        {
          "output_type": "stream",
          "name": "stdout",
          "text": [
            "[[7 7 7]\n",
            " [7 7 7]]\n"
          ]
        }
      ]
    },
    {
      "cell_type": "code",
      "source": [
        "arr2 = np.array([8,9,10,4,6,7])\n",
        "arr2 = np.sort(arr2) # so\n",
        "print(arr2)"
      ],
      "metadata": {
        "colab": {
          "base_uri": "https://localhost:8080/"
        },
        "id": "169B1-Q-INUJ",
        "outputId": "0df4a116-f005-466a-e46d-5c4dece3696b"
      },
      "execution_count": null,
      "outputs": [
        {
          "output_type": "stream",
          "name": "stdout",
          "text": [
            "[ 4  6  7  8  9 10]\n"
          ]
        }
      ]
    },
    {
      "cell_type": "code",
      "source": [
        "# reshape\n",
        "new = arr2.reshape(2,3)\n",
        "print(new)"
      ],
      "metadata": {
        "colab": {
          "base_uri": "https://localhost:8080/"
        },
        "id": "7ZhCj0VKOy82",
        "outputId": "1fef99e3-959a-4e4d-efcf-71738e03081b"
      },
      "execution_count": null,
      "outputs": [
        {
          "output_type": "stream",
          "name": "stdout",
          "text": [
            "[[ 4  6  7]\n",
            " [ 8  9 10]]\n"
          ]
        }
      ]
    },
    {
      "cell_type": "code",
      "source": [
        "# conversion from 1D to 2D array\n",
        "# np.newaxis np.expand_dims\n",
        "a = np.arange(8)\n",
        "print(a.shape)"
      ],
      "metadata": {
        "colab": {
          "base_uri": "https://localhost:8080/"
        },
        "id": "RD46jcrrSSj6",
        "outputId": "4b3c2959-8118-4746-e679-395fd5e0f6ca"
      },
      "execution_count": null,
      "outputs": [
        {
          "output_type": "stream",
          "name": "stdout",
          "text": [
            "(8,)\n"
          ]
        }
      ]
    },
    {
      "cell_type": "code",
      "source": [
        "a2 = a[np.newaxis, :]\n",
        "print(a2.shape)"
      ],
      "metadata": {
        "colab": {
          "base_uri": "https://localhost:8080/"
        },
        "id": "UChoM-HtS0TE",
        "outputId": "d8728c7e-833e-47c8-d5b7-0b9efd723e5c"
      },
      "execution_count": null,
      "outputs": [
        {
          "output_type": "stream",
          "name": "stdout",
          "text": [
            "(1, 8)\n"
          ]
        }
      ]
    },
    {
      "cell_type": "code",
      "source": [
        "a_new = np.array([[1,2,3],[4,5,6]])\n",
        "print(a_new.shape)"
      ],
      "metadata": {
        "colab": {
          "base_uri": "https://localhost:8080/"
        },
        "id": "7Mf6ZDXgTFOI",
        "outputId": "928328d7-f68a-4d44-c942-1bf2079a9b02"
      },
      "execution_count": null,
      "outputs": [
        {
          "output_type": "stream",
          "name": "stdout",
          "text": [
            "(2, 3)\n"
          ]
        }
      ]
    },
    {
      "cell_type": "code",
      "source": [
        "a_new = a_new[np.newaxis, :]\n",
        "print(a_new.shape)"
      ],
      "metadata": {
        "colab": {
          "base_uri": "https://localhost:8080/"
        },
        "id": "f78ZfAqdTZic",
        "outputId": "2d952bba-1d4e-482f-dac5-f5b20a408b57"
      },
      "execution_count": null,
      "outputs": [
        {
          "output_type": "stream",
          "name": "stdout",
          "text": [
            "(1, 2, 3)\n"
          ]
        }
      ]
    },
    {
      "cell_type": "markdown",
      "source": [
        "**2D array Slicing**"
      ],
      "metadata": {
        "id": "O7xp6xdiXD-4"
      }
    },
    {
      "cell_type": "code",
      "source": [
        "arr2 = np.array([[1,2,3,4,5],[6,7,8,9,10]])\n",
        "print(arr2)\n",
        "print(arr2[0,0]) # this is how 2d indexing works"
      ],
      "metadata": {
        "colab": {
          "base_uri": "https://localhost:8080/"
        },
        "id": "ZRS8zHJRVSqD",
        "outputId": "ba0071fb-f213-40b3-9e83-b87d881b2f1b"
      },
      "execution_count": null,
      "outputs": [
        {
          "output_type": "stream",
          "name": "stdout",
          "text": [
            "[[ 1  2  3  4  5]\n",
            " [ 6  7  8  9 10]]\n",
            "1\n"
          ]
        }
      ]
    },
    {
      "cell_type": "code",
      "source": [
        "# 2d slicing\n",
        "print(arr2[0,1:4]) # we can use slicing in both indexes\n",
        "print(arr2[:2,1:4])"
      ],
      "metadata": {
        "colab": {
          "base_uri": "https://localhost:8080/"
        },
        "id": "oP4-T7U9XWK2",
        "outputId": "34872c19-0cdd-49d2-ceeb-ee22b17ffeb9"
      },
      "execution_count": null,
      "outputs": [
        {
          "output_type": "stream",
          "name": "stdout",
          "text": [
            "[2 3 4]\n",
            "[[2 3 4]\n",
            " [7 8 9]]\n"
          ]
        }
      ]
    },
    {
      "cell_type": "markdown",
      "source": [
        "**Numpy Universal Function**"
      ],
      "metadata": {
        "id": "ftflKeHIZyD-"
      }
    },
    {
      "cell_type": "code",
      "source": [
        "arra = np.array([1,2,3,4,5,6,7,8,9])\n",
        "\n",
        "print(np.sqrt(arra))\n",
        "print(np.absolute(arra))\n",
        "print(np.sign(arra)) # will return -1 for negative values, 0 for 0 and 1 for positive values\n",
        "print(np.exp(arra))\n",
        "print(np.sin(arra)) # trigonomery\n",
        "print(np.max(arra))\n",
        "print(np.min(arra))"
      ],
      "metadata": {
        "colab": {
          "base_uri": "https://localhost:8080/"
        },
        "id": "Euhpi4iRXh7j",
        "outputId": "f480a6a1-736c-4ec0-b9c1-f12b4288db1d"
      },
      "execution_count": null,
      "outputs": [
        {
          "output_type": "stream",
          "name": "stdout",
          "text": [
            "[1.         1.41421356 1.73205081 2.         2.23606798 2.44948974\n",
            " 2.64575131 2.82842712 3.        ]\n",
            "[1 2 3 4 5 6 7 8 9]\n",
            "[1 1 1 1 1 1 1 1 1]\n",
            "[2.71828183e+00 7.38905610e+00 2.00855369e+01 5.45981500e+01\n",
            " 1.48413159e+02 4.03428793e+02 1.09663316e+03 2.98095799e+03\n",
            " 8.10308393e+03]\n",
            "[ 0.84147098  0.90929743  0.14112001 -0.7568025  -0.95892427 -0.2794155\n",
            "  0.6569866   0.98935825  0.41211849]\n",
            "9\n",
            "1\n"
          ]
        }
      ]
    },
    {
      "cell_type": "markdown",
      "source": [
        "**View vs Copy**"
      ],
      "metadata": {
        "id": "8vhKR1jKd13I"
      }
    },
    {
      "cell_type": "code",
      "source": [
        "arr4 = np.arange(10)\n",
        "print(arr4)"
      ],
      "metadata": {
        "colab": {
          "base_uri": "https://localhost:8080/"
        },
        "id": "txF0E-7wd1fD",
        "outputId": "b808b931-118f-4cee-f418-0a5e2caefda6"
      },
      "execution_count": null,
      "outputs": [
        {
          "output_type": "stream",
          "name": "stdout",
          "text": [
            "[0 1 2 3 4 5 6 7 8 9]\n"
          ]
        }
      ]
    },
    {
      "cell_type": "code",
      "source": [
        "arr5 = arr4\n",
        "print(arr5)"
      ],
      "metadata": {
        "colab": {
          "base_uri": "https://localhost:8080/"
        },
        "id": "47v9KbwIcW2f",
        "outputId": "f8ffe6ec-adf9-4b47-f321-be32e00f73d4"
      },
      "execution_count": null,
      "outputs": [
        {
          "output_type": "stream",
          "name": "stdout",
          "text": [
            "[0 1 2 3 4 5 6 7 8 9]\n"
          ]
        }
      ]
    },
    {
      "cell_type": "code",
      "source": [
        "arr4[0] = 100\n",
        "print(arr5)"
      ],
      "metadata": {
        "colab": {
          "base_uri": "https://localhost:8080/"
        },
        "id": "6kIGw3-ceJ23",
        "outputId": "5b19d5c7-c03c-4c76-ef83-6c684d524a88"
      },
      "execution_count": null,
      "outputs": [
        {
          "output_type": "stream",
          "name": "stdout",
          "text": [
            "[100   1   2   3   4   5   6   7   8   9]\n"
          ]
        }
      ]
    },
    {
      "cell_type": "code",
      "source": [
        "arr6 = arr4.view()\n",
        "print(arr6) # so the view is actually referencing the same object after copying the whole. it is called shallow copy\n",
        "# all of the three will have the same refrence\n",
        "arr4[1] = 101\n",
        "print(arr4)\n",
        "print(arr6)"
      ],
      "metadata": {
        "colab": {
          "base_uri": "https://localhost:8080/"
        },
        "id": "OFwiwVMjeSyo",
        "outputId": "44344632-4278-4aad-a229-0558b8ea7980"
      },
      "execution_count": null,
      "outputs": [
        {
          "output_type": "stream",
          "name": "stdout",
          "text": [
            "[100   1   2   3   4   5   6   7   8   9]\n",
            "[100 101   2   3   4   5   6   7   8   9]\n",
            "[100 101   2   3   4   5   6   7   8   9]\n"
          ]
        }
      ]
    },
    {
      "cell_type": "code",
      "source": [
        "# copy creates a new instance which is called a deep copy with a separate data buffer.\n",
        "arr7 = arr4.copy()\n",
        "print(arr7)"
      ],
      "metadata": {
        "colab": {
          "base_uri": "https://localhost:8080/"
        },
        "id": "LLZQ0LKAea1G",
        "outputId": "87a178c4-c973-4092-a51e-bfb492ea6767"
      },
      "execution_count": null,
      "outputs": [
        {
          "output_type": "stream",
          "name": "stdout",
          "text": [
            "[100 101   2   3   4   5   6   7   8   9]\n"
          ]
        }
      ]
    },
    {
      "cell_type": "code",
      "source": [
        "arr4[2] = 102\n",
        "print(arr4)\n",
        "print(arr7)"
      ],
      "metadata": {
        "colab": {
          "base_uri": "https://localhost:8080/"
        },
        "id": "o0_Z17B4hMVS",
        "outputId": "b16ce7b9-94a3-46a5-80b2-c2616b629a89"
      },
      "execution_count": null,
      "outputs": [
        {
          "output_type": "stream",
          "name": "stdout",
          "text": [
            "[100 101 102   3   4   5   6   7   8   9]\n",
            "[100 101   2   3   4   5   6   7   8   9]\n"
          ]
        }
      ]
    },
    {
      "cell_type": "markdown",
      "source": [
        "**Shape and Reshape**"
      ],
      "metadata": {
        "id": "L2oCupP3rSI4"
      }
    },
    {
      "cell_type": "code",
      "source": [
        "arr8 = np.arange(12)\n",
        "print(arr8.shape)"
      ],
      "metadata": {
        "colab": {
          "base_uri": "https://localhost:8080/"
        },
        "id": "L8J1chqKhR9l",
        "outputId": "204644fa-0135-4c3f-c404-e83a2141c907"
      },
      "execution_count": null,
      "outputs": [
        {
          "output_type": "stream",
          "name": "stdout",
          "text": [
            "(12,)\n"
          ]
        }
      ]
    },
    {
      "cell_type": "code",
      "source": [
        "# converting 1D to 2D\n",
        "arr8 = arr8.reshape(3,4)\n",
        "print(arr8)"
      ],
      "metadata": {
        "colab": {
          "base_uri": "https://localhost:8080/"
        },
        "id": "HetOeGfVs7dK",
        "outputId": "95cd2777-48ba-43bb-d8f3-d30509d3d7d3"
      },
      "execution_count": null,
      "outputs": [
        {
          "output_type": "stream",
          "name": "stdout",
          "text": [
            "[[ 0  1  2  3]\n",
            " [ 4  5  6  7]\n",
            " [ 8  9 10 11]]\n"
          ]
        }
      ]
    },
    {
      "cell_type": "code",
      "source": [
        "# converi=ting into 3D\n",
        "arr8 = arr8.reshape(3,2,2)\n",
        "print(arr8)"
      ],
      "metadata": {
        "colab": {
          "base_uri": "https://localhost:8080/"
        },
        "id": "79C43kjptLC1",
        "outputId": "815ddeb6-5c5a-4000-fd76-019d4a8e5a21"
      },
      "execution_count": null,
      "outputs": [
        {
          "output_type": "stream",
          "name": "stdout",
          "text": [
            "[[[ 0  1]\n",
            "  [ 2  3]]\n",
            "\n",
            " [[ 4  5]\n",
            "  [ 6  7]]\n",
            "\n",
            " [[ 8  9]\n",
            "  [10 11]]]\n"
          ]
        }
      ]
    },
    {
      "cell_type": "code",
      "source": [
        "# flattening\n",
        "arr8 = arr8.reshape(-1)\n",
        "print(arr8)"
      ],
      "metadata": {
        "colab": {
          "base_uri": "https://localhost:8080/"
        },
        "id": "MLLGOoJlt5Dx",
        "outputId": "7d1fecb7-8714-436b-9016-6d5465303524"
      },
      "execution_count": null,
      "outputs": [
        {
          "output_type": "stream",
          "name": "stdout",
          "text": [
            "[ 0  1  2  3  4  5  6  7  8  9 10 11]\n"
          ]
        }
      ]
    },
    {
      "cell_type": "markdown",
      "source": [
        "**Iterating through numopy array**"
      ],
      "metadata": {
        "id": "kN9mjvlRulAS"
      }
    },
    {
      "cell_type": "code",
      "source": [
        "one_d = np.arange(10)\n",
        "\n",
        "for item in one_d:\n",
        "  print(item)"
      ],
      "metadata": {
        "colab": {
          "base_uri": "https://localhost:8080/"
        },
        "id": "89soK2Xwt9x6",
        "outputId": "2a5b20cb-43c8-4c1d-807e-e26b63a1abd2"
      },
      "execution_count": null,
      "outputs": [
        {
          "output_type": "stream",
          "name": "stdout",
          "text": [
            "0\n",
            "1\n",
            "2\n",
            "3\n",
            "4\n",
            "5\n",
            "6\n",
            "7\n",
            "8\n",
            "9\n"
          ]
        }
      ]
    },
    {
      "cell_type": "code",
      "source": [
        "two_d = np.array([[1,2,3,4],[5,6,7,8]])\n",
        "for row in two_d:\n",
        "  for item in row:\n",
        "    print(item)"
      ],
      "metadata": {
        "colab": {
          "base_uri": "https://localhost:8080/"
        },
        "id": "APIkxovlw7tw",
        "outputId": "54f04dc7-5ff1-4519-c0ee-dcda433fab84"
      },
      "execution_count": null,
      "outputs": [
        {
          "output_type": "stream",
          "name": "stdout",
          "text": [
            "1\n",
            "2\n",
            "3\n",
            "4\n",
            "5\n",
            "6\n",
            "7\n",
            "8\n"
          ]
        }
      ]
    },
    {
      "cell_type": "code",
      "source": [
        "three_d = np.array([[[1,2,3,],[4,5,6]],[[7,8,9],[10,11,12]]])\n",
        "for dimention in three_d:\n",
        "  for row in dimention:\n",
        "    for item in row:\n",
        "      print(item)"
      ],
      "metadata": {
        "colab": {
          "base_uri": "https://localhost:8080/"
        },
        "id": "0zooFPhUxsHb",
        "outputId": "37a67464-cbbe-4f16-e215-6ed5ff6b7f30"
      },
      "execution_count": null,
      "outputs": [
        {
          "output_type": "stream",
          "name": "stdout",
          "text": [
            "1\n",
            "2\n",
            "3\n",
            "4\n",
            "5\n",
            "6\n",
            "7\n",
            "8\n",
            "9\n",
            "10\n",
            "11\n",
            "12\n"
          ]
        }
      ]
    },
    {
      "cell_type": "code",
      "source": [
        "# simple way to iterate through each item in nd array\n",
        "for item in np.nditer(three_d):\n",
        "  print(item)"
      ],
      "metadata": {
        "colab": {
          "base_uri": "https://localhost:8080/"
        },
        "id": "oHDEEMLWx7sJ",
        "outputId": "437ea53c-1240-47fe-afe2-6643c8d3bb9e"
      },
      "execution_count": null,
      "outputs": [
        {
          "output_type": "stream",
          "name": "stdout",
          "text": [
            "1\n",
            "2\n",
            "3\n",
            "4\n",
            "5\n",
            "6\n",
            "7\n",
            "8\n",
            "9\n",
            "10\n",
            "11\n",
            "12\n"
          ]
        }
      ]
    },
    {
      "cell_type": "code",
      "source": [
        "# use np.sort to sort numpy array items without changing the actual array"
      ],
      "metadata": {
        "id": "q0NrbrCVykEE"
      },
      "execution_count": null,
      "outputs": []
    },
    {
      "cell_type": "code",
      "source": [
        "search = np.array([1,2,3,3,4,4,4,3,2,9])\n",
        "x = np.where(search == 2) # this will return a tuple of the index of matching numbers\n",
        "print(x)"
      ],
      "metadata": {
        "colab": {
          "base_uri": "https://localhost:8080/"
        },
        "id": "WDwTHfENzaJj",
        "outputId": "21943f6f-1516-4f7c-d283-7af65a1a239d"
      },
      "execution_count": null,
      "outputs": [
        {
          "output_type": "stream",
          "name": "stdout",
          "text": [
            "(array([1, 8]),)\n"
          ]
        }
      ]
    },
    {
      "cell_type": "code",
      "source": [
        "print(x[0])"
      ],
      "metadata": {
        "colab": {
          "base_uri": "https://localhost:8080/"
        },
        "id": "C2skWdAr09GL",
        "outputId": "01f74a72-c52e-42f7-fc91-6f531d307cf3"
      },
      "execution_count": null,
      "outputs": [
        {
          "output_type": "stream",
          "name": "stdout",
          "text": [
            "[1 8]\n"
          ]
        }
      ]
    },
    {
      "cell_type": "code",
      "source": [
        "y = np.where(search % 2 == 0)\n",
        "print(y)"
      ],
      "metadata": {
        "colab": {
          "base_uri": "https://localhost:8080/"
        },
        "id": "d6DRCtGm1KMA",
        "outputId": "9f4d674f-e8c8-4f57-9bd8-e18dc73b6c32"
      },
      "execution_count": null,
      "outputs": [
        {
          "output_type": "stream",
          "name": "stdout",
          "text": [
            "(array([1, 4, 5, 6, 8]),)\n"
          ]
        }
      ]
    },
    {
      "cell_type": "markdown",
      "source": [
        "**Filter**"
      ],
      "metadata": {
        "id": "Jm0m66Aw2rF0"
      }
    },
    {
      "cell_type": "code",
      "source": [
        "array1 = np.arange(12)\n",
        "\n",
        "filter = [ True if item % 2 == 0 else False for item in array1 ]\n",
        "print(filter)"
      ],
      "metadata": {
        "colab": {
          "base_uri": "https://localhost:8080/"
        },
        "id": "YWHzW5HU14JK",
        "outputId": "d5addcf9-eef2-480e-a133-5b5f925ac50e"
      },
      "execution_count": null,
      "outputs": [
        {
          "output_type": "stream",
          "name": "stdout",
          "text": [
            "[True, False, True, False, True, False, True, False, True, False, True, False]\n"
          ]
        }
      ]
    },
    {
      "cell_type": "code",
      "source": [
        "print(array1[filter])\n",
        "# shortcut for similar work\n",
        "filter2 = array1 % 2 == 0\n",
        "print(array1[filter2])"
      ],
      "metadata": {
        "colab": {
          "base_uri": "https://localhost:8080/"
        },
        "id": "l6CvjOVj3XBX",
        "outputId": "c000583d-6291-4e9e-bc37-0834283e7816"
      },
      "execution_count": null,
      "outputs": [
        {
          "output_type": "stream",
          "name": "stdout",
          "text": [
            "[ 0  2  4  6  8 10]\n",
            "[ 0  2  4  6  8 10]\n"
          ]
        }
      ]
    },
    {
      "cell_type": "code",
      "source": [],
      "metadata": {
        "id": "OjEzjEqD3bdA"
      },
      "execution_count": null,
      "outputs": []
    }
  ]
}